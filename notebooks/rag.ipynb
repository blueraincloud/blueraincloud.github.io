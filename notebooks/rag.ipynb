{
 "cells": [
  {
   "cell_type": "markdown",
   "id": "4cdb9025-6c50-43c2-8d13-33dd0c421b61",
   "metadata": {},
   "source": [
    "#  Retrieval-Augmented Generation (RAGS)"
   ]
  },
  {
   "cell_type": "code",
   "execution_count": null,
   "id": "dc5d549e-7063-42be-bf74-84af73a4bb8b",
   "metadata": {},
   "outputs": [],
   "source": [
    "![title](\"img/picture.png\")"
   ]
  },
  {
   "cell_type": "code",
   "execution_count": 1,
   "id": "c1aa1e13-f9ca-4118-b9fd-912ed7afdab9",
   "metadata": {},
   "outputs": [
    {
     "name": "stderr",
     "output_type": "stream",
     "text": [
      "USER_AGENT environment variable not set, consider setting it to identify your requests.\n"
     ]
    }
   ],
   "source": [
    "from langchain_community.document_loaders import WebBaseLoader\n",
    "from langchain.text_splitter import RecursiveCharacterTextSplitter\n",
    "from langchain_community.embeddings import HuggingFaceEmbeddings\n",
    "from langchain_community.vectorstores import FAISS\n",
    "from langchain_community.document_loaders import WebBaseLoader\n",
    "from langchain_core.prompts import ChatPromptTemplate\n",
    "from langchain_core.messages import AIMessage\n",
    "import bs4"
   ]
  },
  {
   "cell_type": "code",
   "execution_count": null,
   "id": "23d51000-da43-4468-a7b2-1f701ee797b6",
   "metadata": {},
   "outputs": [],
   "source": [
    "!pip install langchain\n",
    "!pip install langchain-community\n",
    "!pip install sentence-transformers\n",
    "!pip install faiss-cpu\n",
    "!pip install bs4\n",
    "!pip install langchain-groq"
   ]
  },
  {
   "cell_type": "code",
   "execution_count": 2,
   "id": "40b354dd-e9c0-49a6-b314-ce9aa667eb27",
   "metadata": {},
   "outputs": [],
   "source": [
    "# Document location\n",
    "urls = [\n",
    "    \"https://github.com/blueraincloud/blueraincloud.github.io/blob/main/misc/rag-text.txt\"\n",
    "]\n",
    "\n",
    "#  User Agent\n",
    "class CustomWebBaseLoader(WebBaseLoader):\n",
    "    def __init__(self, url):\n",
    "        super().__init__(url, requests_kwargs={\"headers\": {\"User-Agent\": \"Mozilla/5.0\"}})\n",
    "\n",
    "# Load document\n",
    "docs = [CustomWebBaseLoader(url).load() for url in urls]\n",
    "docs_list = [item for sublist in docs for item in sublist]"
   ]
  },
  {
   "cell_type": "code",
   "execution_count": 60,
   "id": "48a7c2ea-3946-4d1c-aa03-39a7e360b2bd",
   "metadata": {},
   "outputs": [],
   "source": [
    "# Text_splitter\n",
    "text_splitter = RecursiveCharacterTextSplitter.from_tiktoken_encoder(\n",
    "    chunk_size=200, chunk_overlap=0\n",
    ")\n",
    "# Split the documents into chunks\n",
    "doc_splits = text_splitter.split_documents(docs_list)"
   ]
  },
  {
   "cell_type": "code",
   "execution_count": 62,
   "id": "1320c59a-fe00-416d-87e0-60201015e148",
   "metadata": {},
   "outputs": [],
   "source": [
    "vectorstore = FAISS.from_documents(doc_splits, HuggingFaceEmbeddings(model_name=\"sentence-transformers/all-mpnet-base-v2\"))\n",
    "retriever = vectorstore.as_retriever(k=4)"
   ]
  },
  {
   "cell_type": "code",
   "execution_count": 63,
   "id": "2524fe4e-df89-4b7f-989c-e2e85a57c36e",
   "metadata": {},
   "outputs": [],
   "source": [
    "from langchain_ollama import ChatOllama\n",
    "from langchain.prompts import PromptTemplate\n",
    "from langchain_core.output_parsers import StrOutputParser\n",
    "# Define the prompt template for the LLM\n",
    "prompt = PromptTemplate(\n",
    "    template=\"\"\"You are an assistant for question-answering tasks.\n",
    "    Use the following documents to answer the question.\n",
    "    If you don't know the answer, just say that you don't know.\n",
    "    Use three sentences maximum and keep the answer concise:\n",
    "    Question: {question}\n",
    "    Documents: {documents}\n",
    "    Answer:\n",
    "    \"\"\",\n",
    "    input_variables=[\"question\", \"documents\"],\n",
    ")"
   ]
  },
  {
   "cell_type": "code",
   "execution_count": 68,
   "id": "95ca3be1-5dc8-44d7-ab24-e55d4e34fad4",
   "metadata": {},
   "outputs": [],
   "source": [
    "# Initialize Llama 3.1\n",
    "llm = ChatOllama(\n",
    "    model=\"llama3.1\",\n",
    "    temperature=0,\n",
    ")"
   ]
  },
  {
   "cell_type": "code",
   "execution_count": 72,
   "id": "9f7c9407-0fae-496f-a069-f17656b66224",
   "metadata": {},
   "outputs": [
    {
     "data": {
      "text/plain": [
       "'Prompt-engineering is the process of designing and refining input prompts to elicit accurate and relevant responses from language models, such as chatbots or virtual assistants. It involves understanding how to craft effective questions or statements that can be understood by AI systems. This technique helps improve the quality and relevance of generated answers.'"
      ]
     },
     "execution_count": 72,
     "metadata": {},
     "output_type": "execute_result"
    }
   ],
   "source": [
    "prompt = ChatPromptTemplate.from_messages(\n",
    "    [\n",
    "        (\n",
    "            \"system\",\n",
    "            \"\"\"You are an assistant for question-answering tasks.\n",
    "            Use short sentences and keep the answer to a max of three sentences.\n",
    "            Question: {question}\n",
    "            Answer:\"\"\",\n",
    "        ),\n",
    "        (\"human\", \"{question}\"),\n",
    "    ]\n",
    ")\n",
    "\n",
    "chain = prompt | llm\n",
    "ai_msg = chain.invoke(\n",
    "    {\n",
    "        \"question\": \"What is prompt-engineering?\",\n",
    "    }\n",
    ")\n",
    "ai_msg.content"
   ]
  },
  {
   "cell_type": "code",
   "execution_count": 73,
   "id": "dc2928bd-ffb5-4b91-b455-edf8414f5ad3",
   "metadata": {},
   "outputs": [
    {
     "data": {
      "text/plain": [
       "'I couldn\\'t find any information on \"clorkimn\". It\\'s possible it\\'s a misspelling or not a widely known term.'"
      ]
     },
     "execution_count": 73,
     "metadata": {},
     "output_type": "execute_result"
    }
   ],
   "source": [
    "ai_msg = chain.invoke(\n",
    "    {\n",
    "        \"question\": \"What is clorkimn?\",\n",
    "    }\n",
    ")\n",
    "ai_msg.content"
   ]
  },
  {
   "cell_type": "code",
   "execution_count": 74,
   "id": "a99192f5-31de-4b38-b069-b097927b37ae",
   "metadata": {},
   "outputs": [],
   "source": [
    "from langchain_ollama import ChatOllama\n",
    "from langchain.prompts import PromptTemplate\n",
    "from langchain_core.output_parsers import StrOutputParser\n",
    "# Define the prompt template for the LLM\n",
    "prompt = PromptTemplate(\n",
    "    template=\"\"\"You are an assistant for question-answering tasks.\n",
    "    Use the documents in question and fall back on the main corpus of knowledge if the documents are insufficient.\n",
    "    Do not mention when you fall back or if it comes from the documents or main corpus of knowledge.\n",
    "    Use short sentences and keep the answer to a max of three sentences.\n",
    "    Question: {question}\n",
    "    Documents: {documents}\n",
    "    Answer:\n",
    "    \"\"\",\n",
    "    input_variables=[\"question\", \"documents\"],\n",
    ")"
   ]
  },
  {
   "cell_type": "code",
   "execution_count": 75,
   "id": "97bc393e-daa4-4489-b8e8-8ac55367866a",
   "metadata": {},
   "outputs": [],
   "source": [
    "# Create a chain combining the prompt template and LLM\n",
    "rag_chain = prompt | llm | StrOutputParser()"
   ]
  },
  {
   "cell_type": "code",
   "execution_count": 76,
   "id": "47f2af3d-8d61-4dca-8e7b-1a57a6e9f6a1",
   "metadata": {},
   "outputs": [],
   "source": [
    "# Define the RAG application class\n",
    "class RAGApplication:\n",
    "    def __init__(self, retriever, rag_chain):\n",
    "        self.retriever = retriever\n",
    "        self.rag_chain = rag_chain\n",
    "    def run(self, question):\n",
    "        # Retrieve relevant documents\n",
    "        documents = self.retriever.invoke(question)\n",
    "        # Extract content from retrieved documents\n",
    "        doc_texts = \"\\\\n\".join([doc.page_content for doc in documents])\n",
    "        #print(doc_texts)\n",
    "        # Get the answer from the language model\n",
    "        answer = self.rag_chain.invoke({\"question\": question, \"documents\": doc_texts})\n",
    "        return answer"
   ]
  },
  {
   "cell_type": "code",
   "execution_count": 77,
   "id": "3a63c0e4-24d0-4fd6-8e7b-b87c661edbd1",
   "metadata": {},
   "outputs": [
    {
     "name": "stdout",
     "output_type": "stream",
     "text": [
      "Question: What is Prompt engineering\n",
      "Answer: Prompt engineering is a way of life that involves cultivating awareness, fostering creativity, and connecting with others through shared experiences. It's about harnessing the power of your thoughts and feelings to connect with the universe by crafting the right questions to unlock the treasures of your mind and surroundings. This practice helps you engage with the world around you and discover new insights about yourself and the world.\n"
     ]
    }
   ],
   "source": [
    "# Initialize the RAG application\n",
    "rag_application = RAGApplication(retriever, rag_chain)\n",
    "# Example usage\n",
    "question = \"What is Prompt engineering\"\n",
    "answer = rag_application.run(question)\n",
    "print(\"Question:\", question)\n",
    "print(\"Answer:\", answer)"
   ]
  },
  {
   "cell_type": "code",
   "execution_count": 79,
   "id": "9d4afde1-3828-4324-aff0-11d4bc2b6058",
   "metadata": {},
   "outputs": [
    {
     "name": "stdout",
     "output_type": "stream",
     "text": [
      "Question: What is clorkimn?\n",
      "Answer: Clorkimn refers to a word that means green blue in fantasy worlds. It comes from the English words clorkimness and is an uncommon term that was lost in translation but remains important. Clorkimn is associated with a specific color palette found in imaginative realms.\n"
     ]
    }
   ],
   "source": [
    "question = \"What is clorkimn?\"\n",
    "answer = rag_application.run(question)\n",
    "print(\"Question:\", question)\n",
    "print(\"Answer:\", answer)"
   ]
  },
  {
   "cell_type": "markdown",
   "id": "68ad7c4d-7383-40fb-8844-c0201904449a",
   "metadata": {},
   "source": [
    "## DORA"
   ]
  },
  {
   "cell_type": "code",
   "execution_count": 163,
   "id": "f0a73d0d-2047-4206-9ca4-1b9694888532",
   "metadata": {},
   "outputs": [
    {
     "name": "stdout",
     "output_type": "stream",
     "text": [
      "77\n",
      "57\n",
      "113\n",
      "182\n",
      "184\n",
      "128\n",
      "26\n",
      "48\n",
      "36\n",
      "21\n"
     ]
    }
   ],
   "source": [
    "# importing required classes\n",
    "from pypdf import PdfReader\n",
    "from langchain.text_splitter import RecursiveCharacterTextSplitter\n",
    "from langchain.schema import Document  # Import the Document class\n",
    "doc_names = [\n",
    "    \"DORA/a.pdf\",\n",
    "    \"DORA/b.pdf\",\n",
    "    \"DORA/c.pdf\",\n",
    "    \"DORA/d.pdf\",\n",
    "    \"DORA/e.pdf\",\n",
    "    \"DORA/f.pdf\",\n",
    "    \"DORA/g.pdf\",\n",
    "    \"DORA/h.pdf\",\n",
    "    \"DORA/i.pdf\",\n",
    "    \"DORA/j.pdf\"\n",
    "]\n",
    "corpus = []\n",
    "for adoc in doc_names:\n",
    "    # creating a pdf reader object\n",
    "    reader = PdfReader(adoc)\n",
    "    \n",
    "    # printing number of pages in pdf file\n",
    "    print(len(reader.pages))\n",
    "    \n",
    "    # creating a page object\n",
    "    page = reader.pages[1]\n",
    "    \n",
    "    # extracting text from page\n",
    "    #print(page.extract_text())\n",
    "\n",
    "    docs_list = [Document(page_content=doc.extract_text()) for doc in reader.pages]\n",
    "    corpus = corpus + docs_list\n"
   ]
  },
  {
   "cell_type": "code",
   "execution_count": 164,
   "id": "1c9ec046-f276-4aa7-b5fc-0e7f7f03c46b",
   "metadata": {},
   "outputs": [],
   "source": [
    "text_splitter = RecursiveCharacterTextSplitter.from_tiktoken_encoder(\n",
    "    chunk_size=200, chunk_overlap=0\n",
    ")\n",
    "# Split the documents into chunks\n",
    "doc_splits = text_splitter.split_documents(corpus)"
   ]
  },
  {
   "cell_type": "code",
   "execution_count": 165,
   "id": "78b2818c-b7ba-4bde-a4d2-a6101212f131",
   "metadata": {},
   "outputs": [],
   "source": [
    "from langchain_community.embeddings import HuggingFaceEmbeddings\n",
    "from langchain_community.vectorstores import FAISS\n",
    "from langchain.text_splitter import RecursiveCharacterTextSplitter\n",
    "from langchain_community.document_loaders import WebBaseLoader\n",
    "import bs4\n",
    "\n",
    "vectorstore = FAISS.from_documents(doc_splits, HuggingFaceEmbeddings(model_name=\"sentence-transformers/all-mpnet-base-v2\"))\n",
    "retriever = vectorstore.as_retriever(k=4)"
   ]
  },
  {
   "cell_type": "code",
   "execution_count": 166,
   "id": "1dd2e0a7-5a26-4f30-83cc-3dd324d51681",
   "metadata": {},
   "outputs": [
    {
     "data": {
      "text/plain": [
       "'I don\\'t have any documents related to a \"DORA act\". Could you please provide more context or information about what DORA act refers to? I\\'ll do my best to find relevant documents and answer your question. \\n\\nHowever, after some research, I found that the Digital Operational Resilience Act (DORA) is a proposed EU regulation aimed at strengthening the operational resilience of financial institutions. If this is the correct context, please let me know and I can try to provide more information based on available documents.\\n\\nPlease note that my previous response was incorrect, and I\\'m trying to correct it now.'"
      ]
     },
     "execution_count": 166,
     "metadata": {},
     "output_type": "execute_result"
    }
   ],
   "source": [
    "prompt = ChatPromptTemplate.from_messages(\n",
    "    [\n",
    "        (\n",
    "            \"system\",\n",
    "            \"You are an assistant for question-answering tasks. \\\n",
    "            Use the following documents to answer the question.\\\n",
    "            If you don't know the answer, just say that you don't know.\\\n",
    "            In general you are dealing with regulatory documents and often it is verbose. Giving a summary would be helpful.\\\n",
    "            Each document typicall has a background and rational and a technical standards section.\\\n",
    "            WHen giving answer back focus on the content in the technical standards section.\\\n",
    "            THe background and rational and other sections are not as important:\\\n",
    "            Question: {question}\\\n",
    "            Answer:\",\n",
    "        ),\n",
    "        (\"human\", \"{question}\"),\n",
    "    ]\n",
    ")\n",
    "\n",
    "chain = prompt | llm\n",
    "ai_msg = chain.invoke(\n",
    "    {\n",
    "        \"question\": \"What is DORA act about?\",\n",
    "    }\n",
    ")\n",
    "ai_msg.content"
   ]
  },
  {
   "cell_type": "code",
   "execution_count": 167,
   "id": "3e0e5ef4-766e-4281-8727-ef7b009daac0",
   "metadata": {},
   "outputs": [],
   "source": [
    "prompt = PromptTemplate(\n",
    "    template=\"\"\"You are an assistant for question-answering tasks. \\\n",
    "            Use the following documents to answer the question.\\\n",
    "            If you don't know the answer, just say that you don't know.\\\n",
    "            In general you are dealing with regulatory documents and often it is verbose. Giving a summary would be helpful.\\\n",
    "             Each document typicall has a section where responds give their feedback and a section where the actual draft of standards are given.\\\n",
    "            When summarizing this information only consider the actual standards that are set and ignore the other sections:\\\n",
    "    Question: {question}\n",
    "    Documents: {documents}\n",
    "    Answer:\n",
    "    \"\"\",\n",
    "    input_variables=[\"question\", \"documents\"],\n",
    ")"
   ]
  },
  {
   "cell_type": "code",
   "execution_count": 168,
   "id": "b87d38fc-8f88-4ddd-a2d0-6e47c5eca37b",
   "metadata": {},
   "outputs": [
    {
     "name": "stdout",
     "output_type": "stream",
     "text": [
      "Question: What is DORA act about?\n",
      "Answer: Based on the provided documents, I can summarize that DORA is about regulations related to the oversight of financial entities and ICT third-party service providers.\n",
      "\n",
      "The actual standards set by DORA include:\n",
      "\n",
      "* Tests organized at the level of a financial entity by the TLPT authority of its home Member State (point 75)\n",
      "* Requirements for competent authorities in relation to the joint examination team (point c)\n",
      "\n",
      "These regulations are outlined in two separate Regulatory Technical Standards (RTS) under DORA.\n",
      "\n",
      "As for what DORA is about, I can provide a brief summary:\n",
      "\n",
      "DORA appears to be an act that regulates the oversight of financial entities and ICT third-party service providers. It sets standards for tests and examinations to be conducted by competent authorities, with a focus on ensuring the stability and security of the financial system.\n"
     ]
    }
   ],
   "source": [
    "# Create a chain combining the prompt template and LLM\n",
    "rag_chain = prompt | llm | StrOutputParser()\n",
    "\n",
    "rag_application = RAGApplication(retriever, rag_chain)\n",
    "# Example usage\n",
    "question = \"What is DORA act about?\"\n",
    "answer = rag_application.run(question)\n",
    "print(\"Question:\", question)\n",
    "print(\"Answer:\", answer)"
   ]
  },
  {
   "cell_type": "code",
   "execution_count": 169,
   "id": "da3884db-a345-4aaa-ad0a-75fd76c2fe3d",
   "metadata": {},
   "outputs": [
    {
     "name": "stdout",
     "output_type": "stream",
     "text": [
      "Question: Can you give me a one page summary of the documents\n",
      "Answer: Here is a one-page summary of the documents:\n",
      "\n",
      "**Summary**\n",
      "\n",
      "The European Securities and Markets Authority (ESAs) has made some changes to provide more clarity in the draft regulatory technical standards (RTS). The main points are:\n",
      "\n",
      "* **Electronic format**: The report must be in a searchable electronic format, but no specific document type is mandated.\n",
      "* **Examples or best practices**: These are out of scope for the RTS.\n",
      "* **Purpose of \"start\" and \"end\" dates**: The text is considered sufficiently clear.\n",
      "\n",
      "**Key Changes**\n",
      "\n",
      "The ESAs have introduced some key changes to provide more clarity:\n",
      "\n",
      "* Paragraph 1 only requires a searchable electronic format, without mandating a specific file type.\n",
      "* Paragraph 2 elaborates on the content expected from the report, covering minimum elements that must be included. Entities may include additional information if deemed useful.\n",
      "\n",
      "**Contractual Structure and Documentation**\n",
      "\n",
      "The preferred option is to retain Option A, which prescribes fields for contractual structure (documentation management). New Articles 6 and 7, and changes to Article 9 are proposed.\n",
      "\n",
      "Note: I have only considered the actual standards set in the documents, ignoring other sections such as feedback and draft standards.\n"
     ]
    }
   ],
   "source": [
    "# Example usage\n",
    "question = \"Can you give me a one page summary of the documents\"\n",
    "answer = rag_application.run(question)\n",
    "print(\"Question:\", question)\n",
    "print(\"Answer:\", answer)"
   ]
  },
  {
   "cell_type": "code",
   "execution_count": 170,
   "id": "9e94c23a-a3f0-4e13-8a2c-443f7aa88a67",
   "metadata": {},
   "outputs": [
    {
     "name": "stdout",
     "output_type": "stream",
     "text": [
      "Question: What is the register of information\n",
      "Answer: Based on the documents provided, here is a summary of what I found regarding the \"register of information\":\n",
      "\n",
      "**Summary:** The register of information is composed of 15 templates that are linked together using relational keys. The templates cover three purposes: (i) ICT risk management; (ii) reporting and disclosure; and (iii) supervision.\n",
      "\n",
      "**Key Components:**\n",
      "\n",
      "1. **Templates**: There are 15 templates in total, which are linked to each other using relational keys.\n",
      "2. **Relational Keys**: Some of the relational keys used include:\n",
      "\t* Contractual arrangement reference number\n",
      "\t* LEI (Legal Entity Identifier) of the entity making use of ICT services\n",
      "\t* ICT third-party service provider identifier\n",
      "\t* Function identifier\n",
      "\t* Type of ICT services (provided in Annex III)\n",
      "3. **Purpose**: The register of information serves three purposes:\n",
      "\t* ICT risk management\n",
      "\t* Reporting and disclosure\n",
      "\t* Supervision\n",
      "\n",
      "**Standards:**\n",
      "\n",
      "1. Financial entities must ensure that the register of information includes required information for all ICT services provided by direct ICT third-party providers (Article 3, Chapter II).\n",
      "2. The register of information shall be maintained and updated to include the required information in relation to all ICT services provided by direct ICT third-party providers.\n",
      "\n",
      "I hope this summary is helpful! Let me know if you have any further questions.\n"
     ]
    }
   ],
   "source": [
    "# Example usage\n",
    "question = \"What is the register of information\"\n",
    "answer = rag_application.run(question)\n",
    "print(\"Question:\", question)\n",
    "print(\"Answer:\", answer)"
   ]
  },
  {
   "cell_type": "code",
   "execution_count": 171,
   "id": "eca49844-5beb-46d3-8ded-d74e72a97ce6",
   "metadata": {},
   "outputs": [
    {
     "name": "stdout",
     "output_type": "stream",
     "text": [
      "Question: What can you tell me about the standards on classifying ICT related incidients\n",
      "Answer: Based on the provided document, here's a summary of the standards related to classifying ICT-related incidents:\n",
      "\n",
      "**Classification Criteria**\n",
      "\n",
      "The draft RTS (Regulatory Technical Standard) specifies criteria for classifying ICT-related incidents under DORA (Digital Operational Resilience Act). The classification is based on the following criteria:\n",
      "\n",
      "* Major ICT-related incidents: These are incidents that have a significant impact on costs and losses, and financial entities must report them in their reference year or previous years if they had an impact on costs and losses.\n",
      "* Significant cyber threats: These are threats that have a potential to cause major ICT-related incidents.\n",
      "\n",
      "**Materiality Thresholds**\n",
      "\n",
      "The draft RTS also sets out materiality thresholds for major incidents and significant cyber threats. Financial entities must assess gross costs and losses using the same approach as the regulatory technical standard specifying the criteria for the classification of ICT-related incidents under Article 18(3) DORA.\n",
      "\n",
      "**Type of ICT Services**\n",
      "\n",
      "The document also defines a list of types of ICT services (S01 to S19), which are used in the templates of the register of information. These include:\n",
      "\n",
      "* ICT project management\n",
      "* ICT development\n",
      "* ICT help desk and first-level support\n",
      "* ICT security management services\n",
      "\n",
      "These standards aim to provide simplicity, clarity, and harmonization across sectors and entities while considering sector-specificities if necessary and ensuring proportionality.\n"
     ]
    }
   ],
   "source": [
    "# Example usage\n",
    "question = \"What can you tell me about the standards on classifying ICT related incidients\"\n",
    "answer = rag_application.run(question)\n",
    "print(\"Question:\", question)\n",
    "print(\"Answer:\", answer)"
   ]
  },
  {
   "cell_type": "code",
   "execution_count": 172,
   "id": "86dbe631-2bd4-48d1-aa49-950c66387623",
   "metadata": {},
   "outputs": [
    {
     "name": "stdout",
     "output_type": "stream",
     "text": [
      "Question: What can you tell me about the RTS on ICT services supporting critical or important functions\n",
      "Answer: Based on the provided documents (134, 156, 71, and 147), I can summarize the information related to the Regulatory Technical Standard (RTS) on Information and Communication Technology (ICT) services supporting critical or important functions.\n",
      "\n",
      "**Summary:**\n",
      "\n",
      "The RTS aims to specify criteria for classifying ICT-related incidents, materiality thresholds for major incidents, and significant cyber threats under the Digital Operational Resilience Act (DORA). The key points related to ICT services supporting critical or important functions are:\n",
      "\n",
      "* Some respondents suggested limiting the provisions to ICT assets that serve critical or important functions.\n",
      "* There was a suggestion to add further requirements, including the expected End-of-Life of ICT assets, especially for Legacy Systems. However, the European Supervisory Authorities (ESAs) decided not to include these additional requirements due to their potential costs outweighing the benefits.\n",
      "* The ESAs considered introducing additional requirements but ultimately did not include them in the final draft RTS.\n",
      "\n",
      "**Standards:**\n",
      "\n",
      "The actual standards set by the RTS on ICT services supporting critical or important functions are not explicitly stated in the provided documents. However, based on the summaries and discussions, it appears that the RTS focuses on:\n",
      "\n",
      "* Specifying criteria for classifying ICT-related incidents\n",
      "* Establishing materiality thresholds for major incidents\n",
      "* Identifying significant cyber threats under DORA\n",
      "\n",
      "The specific standards related to ICT services supporting critical or important functions are not clearly outlined in the provided documents. If you would like me to clarify any further points, please let me know!\n"
     ]
    }
   ],
   "source": [
    "# Example usage\n",
    "question = \"What can you tell me about the RTS on ICT services supporting critical or important functions\"\n",
    "answer = rag_application.run(question)\n",
    "print(\"Question:\", question)\n",
    "print(\"Answer:\", answer)"
   ]
  },
  {
   "cell_type": "code",
   "execution_count": 173,
   "id": "7eb2ffda-a6c2-4c50-886b-60bbee6a92d3",
   "metadata": {},
   "outputs": [
    {
     "name": "stdout",
     "output_type": "stream",
     "text": [
      "Question: What can you tell me about the risk management framework and simplified risk management framework. What are the main differences? Ignore the correspondance and give me the standards\n",
      "Answer: Based on the provided documents, here's a summary of the risk management framework and simplified risk management framework:\n",
      "\n",
      "**Risk Management Framework:**\n",
      "\n",
      "* The draft RTS (Regulatory Technical Standard) should take a principle-based and objective-focused approach.\n",
      "* It should provide high-level principles and objectives for financial entities to develop and customize their risk management framework.\n",
      "* The approach aims to ensure consistency and uniformity in risk management practices across the industry, facilitating easier supervision and regulatory oversight.\n",
      "\n",
      "**Simplified Risk Management Framework:**\n",
      "\n",
      "* The draft RTS based on Article 16 of DORA (Digital Operational Resilience Act) includes a simplified ICT (Information and Communication Technology) risk management framework.\n",
      "* This framework is designed to be more proportionate and less prescriptive than the full risk management framework.\n",
      "* It considers the overall risk profile and complexity of financial entities, as well as existing legislation such as Solvency II.\n",
      "\n",
      "**Main Differences:**\n",
      "\n",
      "* The simplified risk management framework is more proportionate and less prescriptive than the full risk management framework.\n",
      "* It focuses on providing high-level principles and objectives for financial entities to develop their own risk management framework, whereas the full framework provides detailed requirements and guidelines.\n",
      "\n",
      "Note that I've ignored the correspondence sections and focused only on the actual standards and draft RTS provided in the documents.\n"
     ]
    }
   ],
   "source": [
    "# Example usage\n",
    "question = \"What can you tell me about the risk management framework and simplified risk management framework. What are the main differences? Ignore the correspondance and give me the standards\"\n",
    "answer = rag_application.run(question)\n",
    "print(\"Question:\", question)\n",
    "print(\"Answer:\", answer)"
   ]
  },
  {
   "cell_type": "code",
   "execution_count": 174,
   "id": "3a8bc661-8056-4612-89eb-ab939467ce60",
   "metadata": {},
   "outputs": [
    {
     "name": "stdout",
     "output_type": "stream",
     "text": [
      "Question: TLPT is threat led penetration testing. What can you tell me about the TLPT. What are the main differences?\n",
      "Answer: Based on the provided documents, here's a summary of TLPT (Threat Led Penetration Testing) and its main differences:\n",
      "\n",
      "**TLPT Overview:**\n",
      "\n",
      "TLPT is a threat-led penetration testing method that involves simulating cyber attacks on live production systems to identify vulnerabilities. It is designed to be more advanced than less sophisticated testing methods covered by Article 24 of the Digital Operational Resilience Act (DORA).\n",
      "\n",
      "**Key Requirements and Differences:**\n",
      "\n",
      "1. **Live Production Systems:** TLPT must be carried out on live production systems, as per Articles 3(17) and 26(2) of DORA.\n",
      "2. **Advanced Testing Methodology:** TLPT is a more advanced testing method than less sophisticated testing methods covered by Article 24 of DORA.\n",
      "3. **Risk Management:** The control team must conduct an assessment of risks associated with the testing, including potential impacts on the financial entity (Article 5).\n",
      "4. **Participants and Stakeholders:** A TLPT involves five types of participants, including a TLPT cyber team (similar to the TIBER-EU framework), a control team, testers, threat intelligence providers, and ICT third-party service providers.\n",
      "5. **Secrecy Arrangements:** Secrecy arrangements must be in place for staff within the financial entity, testers, and threat intelligence providers.\n",
      "\n",
      "**Main Differences:**\n",
      "\n",
      "The main differences between TLPT and other testing methods are its advanced nature, requirement to test live production systems, and the need for risk management assessments. Additionally, TLPT involves a more complex set of participants and stakeholders compared to less sophisticated testing methods.\n"
     ]
    }
   ],
   "source": [
    "# Example usage\n",
    "question = \"TLPT is threat led penetration testing. What can you tell me about the TLPT. What are the main differences?\"\n",
    "answer = rag_application.run(question)\n",
    "print(\"Question:\", question)\n",
    "print(\"Answer:\", answer)"
   ]
  },
  {
   "cell_type": "code",
   "execution_count": 175,
   "id": "e7f3ab3b-c790-4c45-b8dc-e1c409d65389",
   "metadata": {},
   "outputs": [
    {
     "name": "stdout",
     "output_type": "stream",
     "text": [
      "Question: How does DORA treat estimation of aggregated annual costs and losses caused by major ICT-related incidents?\n",
      "Answer: Based on the provided documents, here's a summary of how DORA treats estimation of aggregated annual costs and losses caused by major ICT-related incidents:\n",
      "\n",
      "According to Article 11(10) of Regulation 2022/2554 (DORA), financial entities are mandated to report an estimation of aggregated annual costs and losses caused by major ICT-related incidents to the competent authorities upon request.\n",
      "\n",
      "The guidelines aim to harmonize the estimation of these costs and losses across sectors, as reported data may be based on different methodologies and assumptions, leading to a lack of comparability. Financial entities should aggregate gross costs and losses, as well as financial recoveries, across major ICT-related incidents.\n",
      "\n",
      "To estimate these costs and losses, financial entities should refer to their financial statements, such as the profit and loss account, or supervisory reporting for the relevant reference year. If accurate data is not available, they should base their estimation on other reliable sources.\n",
      "\n",
      "In summary, DORA requires financial entities to report an estimation of aggregated annual costs and losses caused by major ICT-related incidents, and the guidelines aim to harmonize this estimation across sectors by providing a common framework for reporting these costs and losses.\n"
     ]
    }
   ],
   "source": [
    "# Example usage\n",
    "question = \"How does DORA treat estimation of aggregated annual costs and losses caused by major ICT-related incidents?\"\n",
    "answer = rag_application.run(question)\n",
    "print(\"Question:\", question)\n",
    "print(\"Answer:\", answer)\n",
    "\n",
    "\n"
   ]
  },
  {
   "cell_type": "code",
   "execution_count": 177,
   "id": "dc42b2c2-caba-42d0-b79d-a5a01488643d",
   "metadata": {},
   "outputs": [
    {
     "name": "stdout",
     "output_type": "stream",
     "text": [
      "Question: What does DORA say about third-party risk management and contract management?\n",
      "Answer: Based on the provided documents, here's a summary of what DORA says about third-party risk management and contract management:\n",
      "\n",
      "**Third-Party Risk Management:**\n",
      "\n",
      "* Financial entities must comply with Chapter V \"Managing of ICT third-party risk\" of DORA.\n",
      "* Key principles for sound management of ICT third-party risk include:\n",
      "\t+ Regular review of policy (at least once a year).\n",
      "\t+ Conducting risk assessments and maintaining internal responsibilities, skills, experience, and knowledge to ensure effective monitoring and oversight of contractual arrangements.\n",
      "\n",
      "**Contract Management:**\n",
      "\n",
      "* The RTS specifies detailed content on contractual arrangements regarding the use of ICT services supporting critical or important functions provided by ICT third-party service providers.\n",
      "* Governance requirements aim to ensure that contractual arrangements do not impede financial entities from fulfilling DORA requirements.\n",
      "* Financial entities must maintain internal responsibilities and associated skills, experience, and knowledge to ensure effective monitoring and oversight of contractual arrangements.\n",
      "\n",
      "In summary, DORA emphasizes the importance of regular risk assessments, maintaining internal responsibilities, and ensuring effective monitoring and oversight of third-party ICT service providers.\n"
     ]
    }
   ],
   "source": [
    "# Example usage\n",
    "question = \"What does DORA say about third-party risk management and contract management?\"\n",
    "answer = rag_application.run(question)\n",
    "print(\"Question:\", question)\n",
    "print(\"Answer:\", answer)\n",
    "\n",
    "\n"
   ]
  },
  {
   "cell_type": "markdown",
   "id": "8b52f7d9-4d99-4e2a-a20e-e351be9664d6",
   "metadata": {},
   "source": [
    "## Next steps"
   ]
  },
  {
   "cell_type": "markdown",
   "id": "81d57325-8668-4002-8fb1-89951dc98533",
   "metadata": {},
   "source": [
    "* Evaluation metrics\n",
    "* Fine-tuning comparison"
   ]
  },
  {
   "cell_type": "markdown",
   "id": "c269268d-fa3c-488e-bf4a-3c6aee91a6bf",
   "metadata": {},
   "source": [
    "## References"
   ]
  },
  {
   "cell_type": "markdown",
   "id": "bf20b0be-40c5-4bb5-b9d7-d31ae09306e7",
   "metadata": {},
   "source": [
    " - https://github.com/meta-llama/llama-recipes/blob/main/recipes/quickstart/Getting_to_know_Llama.ipynb\n",
    " - https://www.datacamp.com/tutorial/llama-3-1-rag"
   ]
  }
 ],
 "metadata": {
  "kernelspec": {
   "display_name": "Python 3 (ipykernel)",
   "language": "python",
   "name": "python3"
  },
  "language_info": {
   "codemirror_mode": {
    "name": "ipython",
    "version": 3
   },
   "file_extension": ".py",
   "mimetype": "text/x-python",
   "name": "python",
   "nbconvert_exporter": "python",
   "pygments_lexer": "ipython3",
   "version": "3.11.8"
  }
 },
 "nbformat": 4,
 "nbformat_minor": 5
}
